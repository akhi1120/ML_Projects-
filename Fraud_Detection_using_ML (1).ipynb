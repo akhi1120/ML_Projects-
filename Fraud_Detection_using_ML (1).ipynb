{
 "cells": [
  {
   "cell_type": "markdown",
   "id": "5aeca633-0a5a-41ed-95fa-712fe7eeee20",
   "metadata": {},
   "source": [
    "# Import Necessary Dependencies"
   ]
  },
  {
   "cell_type": "code",
   "execution_count": 1,
   "id": "247a6397-bb0e-4ec1-85e6-1349dc60b93e",
   "metadata": {},
   "outputs": [],
   "source": [
    "import pandas as pd\n",
    "import numpy as np\n",
    "import matplotlib.pyplot as plt\n",
    "import seaborn as sns\n",
    "\n",
    "from sklearn.model_selection import train_test_split\n",
    "from sklearn.preprocessing import StandardScaler, OneHotEncoder\n",
    "from sklearn.compose import ColumnTransformer\n",
    "from sklearn.pipeline import Pipeline\n",
    "from sklearn.impute import SimpleImputer\n",
    "from sklearn.linear_model import LogisticRegression\n",
    "from sklearn.ensemble import RandomForestClassifier\n",
    "from sklearn.metrics import classification_report, accuracy_score, roc_auc_score, confusion_matrix\n",
    "from imblearn.over_sampling import SMOTE\n"
   ]
  },
  {
   "cell_type": "markdown",
   "id": "7271b874-f540-4f99-8aa2-b54cab1be993",
   "metadata": {},
   "source": [
    "# Load Data"
   ]
  },
  {
   "cell_type": "code",
   "execution_count": 2,
   "id": "8b0542b5-01db-4749-8fa8-18640075ffc2",
   "metadata": {},
   "outputs": [],
   "source": [
    "df = pd.read_excel(\"C:\\\\Users\\\\akhil\\\\Downloads\\\\fraud_data.xlsx\")"
   ]
  },
  {
   "cell_type": "code",
   "execution_count": 3,
   "id": "bfa5cd9a-fc77-45ff-a268-5dfb78afc921",
   "metadata": {},
   "outputs": [
    {
     "data": {
      "text/html": [
       "<div>\n",
       "<style scoped>\n",
       "    .dataframe tbody tr th:only-of-type {\n",
       "        vertical-align: middle;\n",
       "    }\n",
       "\n",
       "    .dataframe tbody tr th {\n",
       "        vertical-align: top;\n",
       "    }\n",
       "\n",
       "    .dataframe thead th {\n",
       "        text-align: right;\n",
       "    }\n",
       "</style>\n",
       "<table border=\"1\" class=\"dataframe\">\n",
       "  <thead>\n",
       "    <tr style=\"text-align: right;\">\n",
       "      <th></th>\n",
       "      <th>TransactionID</th>\n",
       "      <th>Amount</th>\n",
       "      <th>Time</th>\n",
       "      <th>Location</th>\n",
       "      <th>MerchantCategory</th>\n",
       "      <th>CardHolderAge</th>\n",
       "      <th>IsFraud</th>\n",
       "    </tr>\n",
       "  </thead>\n",
       "  <tbody>\n",
       "    <tr>\n",
       "      <th>0</th>\n",
       "      <td>1</td>\n",
       "      <td>375.17</td>\n",
       "      <td>47605</td>\n",
       "      <td>Houston</td>\n",
       "      <td>Travel</td>\n",
       "      <td>18.0</td>\n",
       "      <td>0</td>\n",
       "    </tr>\n",
       "    <tr>\n",
       "      <th>1</th>\n",
       "      <td>2</td>\n",
       "      <td>950.76</td>\n",
       "      <td>38088</td>\n",
       "      <td>Los Angeles</td>\n",
       "      <td>Electronics</td>\n",
       "      <td>28.0</td>\n",
       "      <td>0</td>\n",
       "    </tr>\n",
       "    <tr>\n",
       "      <th>2</th>\n",
       "      <td>3</td>\n",
       "      <td>732.26</td>\n",
       "      <td>78752</td>\n",
       "      <td>Miami</td>\n",
       "      <td>Travel</td>\n",
       "      <td>20.0</td>\n",
       "      <td>0</td>\n",
       "    </tr>\n",
       "    <tr>\n",
       "      <th>3</th>\n",
       "      <td>4</td>\n",
       "      <td>599.06</td>\n",
       "      <td>55284</td>\n",
       "      <td>New York</td>\n",
       "      <td>Groceries</td>\n",
       "      <td>69.0</td>\n",
       "      <td>0</td>\n",
       "    </tr>\n",
       "    <tr>\n",
       "      <th>4</th>\n",
       "      <td>5</td>\n",
       "      <td>156.86</td>\n",
       "      <td>57043</td>\n",
       "      <td>New York</td>\n",
       "      <td>Groceries</td>\n",
       "      <td>79.0</td>\n",
       "      <td>0</td>\n",
       "    </tr>\n",
       "  </tbody>\n",
       "</table>\n",
       "</div>"
      ],
      "text/plain": [
       "   TransactionID  Amount   Time     Location MerchantCategory  CardHolderAge  \\\n",
       "0              1  375.17  47605      Houston           Travel           18.0   \n",
       "1              2  950.76  38088  Los Angeles      Electronics           28.0   \n",
       "2              3  732.26  78752        Miami           Travel           20.0   \n",
       "3              4  599.06  55284     New York        Groceries           69.0   \n",
       "4              5  156.86  57043     New York        Groceries           79.0   \n",
       "\n",
       "   IsFraud  \n",
       "0        0  \n",
       "1        0  \n",
       "2        0  \n",
       "3        0  \n",
       "4        0  "
      ]
     },
     "execution_count": 3,
     "metadata": {},
     "output_type": "execute_result"
    }
   ],
   "source": [
    "df.head()"
   ]
  },
  {
   "cell_type": "code",
   "execution_count": 4,
   "id": "4d180e3f-16af-4be9-aacb-eb4c39ea4c52",
   "metadata": {},
   "outputs": [
    {
     "data": {
      "text/plain": [
       "(500, 7)"
      ]
     },
     "execution_count": 4,
     "metadata": {},
     "output_type": "execute_result"
    }
   ],
   "source": [
    "df.shape"
   ]
  },
  {
   "cell_type": "code",
   "execution_count": 5,
   "id": "3114e135-7ba1-4762-bfde-1e0845797820",
   "metadata": {},
   "outputs": [
    {
     "data": {
      "text/plain": [
       "Index(['TransactionID', 'Amount', 'Time', 'Location', 'MerchantCategory',\n",
       "       'CardHolderAge', 'IsFraud'],\n",
       "      dtype='object')"
      ]
     },
     "execution_count": 5,
     "metadata": {},
     "output_type": "execute_result"
    }
   ],
   "source": [
    "df.columns"
   ]
  },
  {
   "cell_type": "code",
   "execution_count": 6,
   "id": "5442d758-a119-453f-804a-341c398fc197",
   "metadata": {},
   "outputs": [
    {
     "data": {
      "text/plain": [
       "TransactionID         int64\n",
       "Amount              float64\n",
       "Time                  int64\n",
       "Location             object\n",
       "MerchantCategory     object\n",
       "CardHolderAge       float64\n",
       "IsFraud               int64\n",
       "dtype: object"
      ]
     },
     "execution_count": 6,
     "metadata": {},
     "output_type": "execute_result"
    }
   ],
   "source": [
    "df.dtypes"
   ]
  },
  {
   "cell_type": "code",
   "execution_count": 7,
   "id": "d3add6af-1d83-40a9-b794-370299b40a8f",
   "metadata": {},
   "outputs": [
    {
     "name": "stdout",
     "output_type": "stream",
     "text": [
      "<class 'pandas.core.frame.DataFrame'>\n",
      "RangeIndex: 500 entries, 0 to 499\n",
      "Data columns (total 7 columns):\n",
      " #   Column            Non-Null Count  Dtype  \n",
      "---  ------            --------------  -----  \n",
      " 0   TransactionID     500 non-null    int64  \n",
      " 1   Amount            475 non-null    float64\n",
      " 2   Time              500 non-null    int64  \n",
      " 3   Location          475 non-null    object \n",
      " 4   MerchantCategory  500 non-null    object \n",
      " 5   CardHolderAge     476 non-null    float64\n",
      " 6   IsFraud           500 non-null    int64  \n",
      "dtypes: float64(2), int64(3), object(2)\n",
      "memory usage: 27.5+ KB\n"
     ]
    }
   ],
   "source": [
    "df.info()"
   ]
  },
  {
   "cell_type": "code",
   "execution_count": 8,
   "id": "6ea85eec-9cd7-4e9c-a211-32517c860719",
   "metadata": {},
   "outputs": [
    {
     "data": {
      "text/html": [
       "<div>\n",
       "<style scoped>\n",
       "    .dataframe tbody tr th:only-of-type {\n",
       "        vertical-align: middle;\n",
       "    }\n",
       "\n",
       "    .dataframe tbody tr th {\n",
       "        vertical-align: top;\n",
       "    }\n",
       "\n",
       "    .dataframe thead th {\n",
       "        text-align: right;\n",
       "    }\n",
       "</style>\n",
       "<table border=\"1\" class=\"dataframe\">\n",
       "  <thead>\n",
       "    <tr style=\"text-align: right;\">\n",
       "      <th></th>\n",
       "      <th>TransactionID</th>\n",
       "      <th>Amount</th>\n",
       "      <th>Time</th>\n",
       "      <th>CardHolderAge</th>\n",
       "      <th>IsFraud</th>\n",
       "    </tr>\n",
       "  </thead>\n",
       "  <tbody>\n",
       "    <tr>\n",
       "      <th>count</th>\n",
       "      <td>500.000000</td>\n",
       "      <td>475.000000</td>\n",
       "      <td>500.000000</td>\n",
       "      <td>476.000000</td>\n",
       "      <td>500.000000</td>\n",
       "    </tr>\n",
       "    <tr>\n",
       "      <th>mean</th>\n",
       "      <td>250.500000</td>\n",
       "      <td>641.112753</td>\n",
       "      <td>41141.482000</td>\n",
       "      <td>47.518908</td>\n",
       "      <td>0.054000</td>\n",
       "    </tr>\n",
       "    <tr>\n",
       "      <th>std</th>\n",
       "      <td>144.481833</td>\n",
       "      <td>1044.448065</td>\n",
       "      <td>25614.468967</td>\n",
       "      <td>18.677362</td>\n",
       "      <td>0.226244</td>\n",
       "    </tr>\n",
       "    <tr>\n",
       "      <th>min</th>\n",
       "      <td>1.000000</td>\n",
       "      <td>6.060000</td>\n",
       "      <td>55.000000</td>\n",
       "      <td>5.000000</td>\n",
       "      <td>0.000000</td>\n",
       "    </tr>\n",
       "    <tr>\n",
       "      <th>25%</th>\n",
       "      <td>125.750000</td>\n",
       "      <td>243.780000</td>\n",
       "      <td>18726.250000</td>\n",
       "      <td>32.000000</td>\n",
       "      <td>0.000000</td>\n",
       "    </tr>\n",
       "    <tr>\n",
       "      <th>50%</th>\n",
       "      <td>250.500000</td>\n",
       "      <td>518.810000</td>\n",
       "      <td>40772.000000</td>\n",
       "      <td>47.000000</td>\n",
       "      <td>0.000000</td>\n",
       "    </tr>\n",
       "    <tr>\n",
       "      <th>75%</th>\n",
       "      <td>375.250000</td>\n",
       "      <td>776.000000</td>\n",
       "      <td>63463.250000</td>\n",
       "      <td>63.000000</td>\n",
       "      <td>0.000000</td>\n",
       "    </tr>\n",
       "    <tr>\n",
       "      <th>max</th>\n",
       "      <td>500.000000</td>\n",
       "      <td>9691.578643</td>\n",
       "      <td>86066.000000</td>\n",
       "      <td>120.000000</td>\n",
       "      <td>1.000000</td>\n",
       "    </tr>\n",
       "  </tbody>\n",
       "</table>\n",
       "</div>"
      ],
      "text/plain": [
       "       TransactionID       Amount          Time  CardHolderAge     IsFraud\n",
       "count     500.000000   475.000000    500.000000     476.000000  500.000000\n",
       "mean      250.500000   641.112753  41141.482000      47.518908    0.054000\n",
       "std       144.481833  1044.448065  25614.468967      18.677362    0.226244\n",
       "min         1.000000     6.060000     55.000000       5.000000    0.000000\n",
       "25%       125.750000   243.780000  18726.250000      32.000000    0.000000\n",
       "50%       250.500000   518.810000  40772.000000      47.000000    0.000000\n",
       "75%       375.250000   776.000000  63463.250000      63.000000    0.000000\n",
       "max       500.000000  9691.578643  86066.000000     120.000000    1.000000"
      ]
     },
     "execution_count": 8,
     "metadata": {},
     "output_type": "execute_result"
    }
   ],
   "source": [
    "df.describe()"
   ]
  },
  {
   "cell_type": "code",
   "execution_count": 9,
   "id": "789d71f0-ec36-49dc-a475-13a85d33806c",
   "metadata": {},
   "outputs": [
    {
     "data": {
      "text/plain": [
       "TransactionID        0\n",
       "Amount              25\n",
       "Time                 0\n",
       "Location            25\n",
       "MerchantCategory     0\n",
       "CardHolderAge       24\n",
       "IsFraud              0\n",
       "dtype: int64"
      ]
     },
     "execution_count": 9,
     "metadata": {},
     "output_type": "execute_result"
    }
   ],
   "source": [
    "df.isnull().sum()"
   ]
  },
  {
   "cell_type": "code",
   "execution_count": 10,
   "id": "69ab9d5f-c908-45e4-bc7f-369673fa832a",
   "metadata": {},
   "outputs": [],
   "source": [
    "df = df.drop(columns=[\"TransactionID\"])  "
   ]
  },
  {
   "cell_type": "code",
   "execution_count": 11,
   "id": "3f30d578-c71f-4cb3-86cc-4de86cfe46bd",
   "metadata": {},
   "outputs": [],
   "source": [
    "X = df.drop(\"IsFraud\", axis=1)\n",
    "y = df[\"IsFraud\"]"
   ]
  },
  {
   "cell_type": "code",
   "execution_count": 12,
   "id": "11fe7da4-bce7-44bd-907b-30e84cd452af",
   "metadata": {},
   "outputs": [],
   "source": [
    "numeric_features = [\"Amount\", \"Time\", \"CardHolderAge\"]\n",
    "categorical_features = [\"Location\", \"MerchantCategory\"]"
   ]
  },
  {
   "cell_type": "markdown",
   "id": "71496394-6bf3-49ab-b849-77a0820d00cf",
   "metadata": {},
   "source": [
    "# Preprocessing"
   ]
  },
  {
   "cell_type": "code",
   "execution_count": 13,
   "id": "bab397c7-58d6-4cfb-8484-be4f374b925f",
   "metadata": {},
   "outputs": [],
   "source": [
    "numeric_transformer = Pipeline(steps=[\n",
    "    (\"imputer\", SimpleImputer(strategy=\"median\")),\n",
    "    (\"scaler\", StandardScaler())])\n",
    "\n",
    "categorical_transformer = Pipeline(steps=[\n",
    "    (\"imputer\", SimpleImputer(strategy=\"most_frequent\")),\n",
    "    (\"onehot\", OneHotEncoder(handle_unknown=\"ignore\"))])\n",
    "\n",
    "preprocessor = ColumnTransformer(\n",
    "    transformers=[\n",
    "        (\"num\", numeric_transformer, numeric_features),\n",
    "        (\"cat\", categorical_transformer, categorical_features)])"
   ]
  },
  {
   "cell_type": "markdown",
   "id": "ab008f10-2558-44ff-a143-884206f0b3fd",
   "metadata": {},
   "source": [
    "# Train Test Split\n"
   ]
  },
  {
   "cell_type": "code",
   "execution_count": 14,
   "id": "ae6fd20b-bf04-47af-a7c7-d33c252c9d60",
   "metadata": {},
   "outputs": [],
   "source": [
    "X_processed = preprocessor.fit_transform(X)\n",
    "y_array = np.array(y)"
   ]
  },
  {
   "cell_type": "code",
   "execution_count": 15,
   "id": "c4e38a41-b351-44da-85b4-fe66f24fb3f6",
   "metadata": {},
   "outputs": [
    {
     "name": "stderr",
     "output_type": "stream",
     "text": [
      "C:\\Users\\akhil\\anaconda3\\envs\\env_2\\lib\\site-packages\\sklearn\\base.py:474: FutureWarning: `BaseEstimator._validate_data` is deprecated in 1.6 and will be removed in 1.7. Use `sklearn.utils.validation.validate_data` instead. This function becomes public and is part of the scikit-learn developer API.\n",
      "  warnings.warn(\n"
     ]
    }
   ],
   "source": [
    "smote = SMOTE(random_state=42)\n",
    "X_resampled, y_resampled = smote.fit_resample(X_processed, y_array)\n"
   ]
  },
  {
   "cell_type": "code",
   "execution_count": 16,
   "id": "a04b68f9-5659-4908-81e2-3bb88988cea3",
   "metadata": {},
   "outputs": [],
   "source": [
    "X_train, X_test, y_train, y_test = train_test_split(\n",
    "    X_resampled, y_resampled, test_size=0.2, stratify=y_resampled, random_state=42)\n"
   ]
  },
  {
   "cell_type": "markdown",
   "id": "6623bc33-e70a-465f-87cc-ac52e34a95bb",
   "metadata": {},
   "source": [
    "# Models"
   ]
  },
  {
   "cell_type": "markdown",
   "id": "c314d277-4846-494a-b568-103775973b9c",
   "metadata": {},
   "source": [
    "# Logistic Regression\n"
   ]
  },
  {
   "cell_type": "code",
   "execution_count": 17,
   "id": "9146896f-a4fd-44d9-8958-9afd992229c6",
   "metadata": {},
   "outputs": [],
   "source": [
    "log_reg = LogisticRegression(max_iter=1000)\n",
    "log_reg.fit(X_train, y_train)\n",
    "y_pred_lr = log_reg.predict(X_test)\n",
    "y_prob_lr = log_reg.predict_proba(X_test)[:, 1]"
   ]
  },
  {
   "cell_type": "code",
   "execution_count": 18,
   "id": "f58402ec-5457-4fed-a45b-582fcf022cd1",
   "metadata": {},
   "outputs": [],
   "source": [
    "rf = RandomForestClassifier(n_estimators=300, max_depth=15, random_state=42)\n",
    "rf.fit(X_train, y_train)\n",
    "y_pred_rf = rf.predict(X_test)\n",
    "y_prob_rf = rf.predict_proba(X_test)[:, 1]"
   ]
  },
  {
   "cell_type": "code",
   "execution_count": 20,
   "id": "26b4f9a9-2778-41de-8029-2a692c07b735",
   "metadata": {},
   "outputs": [
    {
     "name": "stdout",
     "output_type": "stream",
     "text": [
      "\n",
      "===== Logistic Regression (SMOTE) =====\n",
      "Accuracy: 0.5684\n",
      "ROC-AUC: 0.6308\n",
      "Confusion Matrix:\n",
      " [[54 41]\n",
      " [41 54]]\n",
      "\n",
      "Classification Report:\n",
      "               precision    recall  f1-score   support\n",
      "\n",
      "           0       0.57      0.57      0.57        95\n",
      "           1       0.57      0.57      0.57        95\n",
      "\n",
      "    accuracy                           0.57       190\n",
      "   macro avg       0.57      0.57      0.57       190\n",
      "weighted avg       0.57      0.57      0.57       190\n",
      "\n",
      "\n",
      "===== Random Forest (SMOTE) =====\n",
      "Accuracy: 0.9526\n",
      "ROC-AUC: 0.9939\n",
      "Confusion Matrix:\n",
      " [[91  4]\n",
      " [ 5 90]]\n",
      "\n",
      "Classification Report:\n",
      "               precision    recall  f1-score   support\n",
      "\n",
      "           0       0.95      0.96      0.95        95\n",
      "           1       0.96      0.95      0.95        95\n",
      "\n",
      "    accuracy                           0.95       190\n",
      "   macro avg       0.95      0.95      0.95       190\n",
      "weighted avg       0.95      0.95      0.95       190\n",
      "\n"
     ]
    }
   ],
   "source": [
    "from sklearn.metrics import classification_report, accuracy_score, roc_auc_score, confusion_matrix\n",
    "def print_metrics(model_name, y_true, y_pred, y_prob):\n",
    "    print(f\"\\n===== {model_name} =====\")\n",
    "    print(\"Accuracy:\", round(accuracy_score(y_true, y_pred), 4))\n",
    "    print(\"ROC-AUC:\", round(roc_auc_score(y_true, y_prob), 4))\n",
    "    print(\"Confusion Matrix:\\n\", confusion_matrix(y_true, y_pred))\n",
    "    print(\"\\nClassification Report:\\n\", classification_report(y_true, y_pred))\n",
    "\n",
    "# 12. Print Results\n",
    "print_metrics(\"Logistic Regression (SMOTE)\", y_test, y_pred_lr, y_prob_lr)\n",
    "print_metrics(\"Random Forest (SMOTE)\", y_test, y_pred_rf, y_prob_rf)"
   ]
  },
  {
   "cell_type": "code",
   "execution_count": 21,
   "id": "24cb0d59-5441-4519-b033-b4350b7a6692",
   "metadata": {},
   "outputs": [],
   "source": [
    "import matplotlib.pyplot as plt\n",
    "import seaborn as sns\n",
    "from sklearn.metrics import roc_curve, precision_recall_curve, auc"
   ]
  },
  {
   "cell_type": "code",
   "execution_count": 23,
   "id": "54a57b79-4430-4f17-9e8b-7085bebd707f",
   "metadata": {},
   "outputs": [
    {
     "name": "stderr",
     "output_type": "stream",
     "text": [
      "C:\\Users\\akhil\\AppData\\Local\\Temp\\ipykernel_31820\\4226938931.py:3: FutureWarning: \n",
      "\n",
      "Passing `palette` without assigning `hue` is deprecated and will be removed in v0.14.0. Assign the `x` variable to `hue` and set `legend=False` for the same effect.\n",
      "\n",
      "  sns.countplot(x=\"IsFraud\", data=df, palette=\"coolwarm\")\n"
     ]
    },
    {
     "data": {
      "image/png": "[encoded data removed]",
      "text/plain": [
       "<Figure size 600x400 with 1 Axes>"
      ]
     },
     "metadata": {},
     "output_type": "display_data"
    }
   ],
   "source": [
    "# Fraud vs Non-Fraud Distribution\n",
    "plt.figure(figsize=(6,4))\n",
    "sns.countplot(x=\"IsFraud\", data=df, palette=\"coolwarm\")\n",
    "plt.title(\"Fraud vs Non-Fraud Distribution\")\n",
    "plt.xlabel(\"Is Fraud\")\n",
    "plt.ylabel(\"Count\")\n",
    "plt.show()"
   ]
  },
  {
   "cell_type": "code",
   "execution_count": 25,
   "id": "bf65ce33-4b0c-4570-b82a-df374732b3dc",
   "metadata": {},
   "outputs": [
    {
     "name": "stderr",
     "output_type": "stream",
     "text": [
      "C:\\Users\\akhil\\AppData\\Local\\Temp\\ipykernel_31820\\3503738978.py:3: FutureWarning: \n",
      "\n",
      "Passing `palette` without assigning `hue` is deprecated and will be removed in v0.14.0. Assign the `x` variable to `hue` and set `legend=False` for the same effect.\n",
      "\n",
      "  sns.boxplot(x=\"IsFraud\", y=\"Amount\", data=df, palette=\"coolwarm\")\n"
     ]
    },
    {
     "data": {
      "image/png": "[encoded data removed]",
      "text/plain": [
       "<Figure size 800x500 with 1 Axes>"
      ]
     },
     "metadata": {},
     "output_type": "display_data"
    }
   ],
   "source": [
    "# Transaction Amount Distribution\n",
    "plt.figure(figsize=(8,5))\n",
    "sns.boxplot(x=\"IsFraud\", y=\"Amount\", data=df, palette=\"coolwarm\")\n",
    "plt.title(\"Transaction Amount Distribution by Fraud/Non-Fraud\")\n",
    "plt.xlabel(\"Is Fraud\")\n",
    "plt.ylabel(\"Transaction Amount\")\n",
    "plt.show()\n"
   ]
  },
  {
   "cell_type": "code",
   "execution_count": 26,
   "id": "3f40c6ec-80f9-49c3-9c30-1e886b742c3b",
   "metadata": {},
   "outputs": [
    {
     "data": {
      "image/png": "[encoded data removed]",
      "text/plain": [
       "<Figure size 600x600 with 1 Axes>"
      ]
     },
     "metadata": {},
     "output_type": "display_data"
    }
   ],
   "source": [
    "# ROC Curve (Random Forest)\n",
    "fpr, tpr, _ = roc_curve(y_test, y_prob_rf)\n",
    "roc_auc = auc(fpr, tpr)\n",
    "\n",
    "plt.figure(figsize=(6,6))\n",
    "plt.plot(fpr, tpr, color=\"darkorange\", lw=2, label=f\"ROC curve (AUC = {roc_auc:.2f})\")\n",
    "plt.plot([0, 1], [0, 1], color=\"navy\", lw=2, linestyle=\"--\")\n",
    "plt.title(\"ROC Curve - Random Forest\")\n",
    "plt.xlabel(\"False Positive Rate\")\n",
    "plt.ylabel(\"True Positive Rate\")\n",
    "plt.legend(loc=\"lower right\")\n",
    "plt.show()"
   ]
  },
  {
   "cell_type": "code",
   "execution_count": 27,
   "id": "424db4c7-b431-4820-a6e8-9e89be8d2686",
   "metadata": {},
   "outputs": [
    {
     "data": {
      "image/png": "[encoded data removed]",
      "text/plain": [
       "<Figure size 600x600 with 1 Axes>"
      ]
     },
     "metadata": {},
     "output_type": "display_data"
    }
   ],
   "source": [
    "# Precision-Recall Curve (Random Forest)\n",
    "precision, recall, _ = precision_recall_curve(y_test, y_prob_rf)\n",
    "plt.figure(figsize=(6,6))\n",
    "plt.plot(recall, precision, color=\"purple\", lw=2)\n",
    "plt.title(\"Precision-Recall Curve - Random Forest\")\n",
    "plt.xlabel(\"Recall\")\n",
    "plt.ylabel(\"Precision\")\n",
    "plt.show()\n"
   ]
  },
  {
   "cell_type": "code",
   "execution_count": null,
   "id": "3f1e0f8b-cefa-4361-a179-6a593c006c8e",
   "metadata": {},
   "outputs": [],
   "source": []
  }
 ],
 "metadata": {
  "kernelspec": {
   "display_name": "Python 3 (ipykernel)",
   "language": "python",
   "name": "python3"
  },
  "language_info": {
   "codemirror_mode": {
    "name": "ipython",
    "version": 3
   },
   "file_extension": ".py",
   "mimetype": "text/x-python",
   "name": "python",
   "nbconvert_exporter": "python",
   "pygments_lexer": "ipython3",
   "version": "3.9.18"
  }
 },
 "nbformat": 4,
 "nbformat_minor": 5
}
